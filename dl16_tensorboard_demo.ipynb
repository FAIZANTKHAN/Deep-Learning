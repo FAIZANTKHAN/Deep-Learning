{
  "nbformat": 4,
  "nbformat_minor": 0,
  "metadata": {
    "colab": {
      "provenance": []
    },
    "kernelspec": {
      "name": "python3",
      "display_name": "Python 3"
    },
    "language_info": {
      "name": "python"
    }
  },
  "cells": [
    {
      "cell_type": "code",
      "execution_count": 14,
      "metadata": {
        "id": "f-v-izmwNZEp"
      },
      "outputs": [],
      "source": [
        "import tensorflow as tf\n",
        "from tensorflow import keras\n",
        "import matplotlib.pyplot as plt\n",
        "%matplotlib inline\n",
        "import numpy as np"
      ]
    },
    {
      "cell_type": "markdown",
      "source": [
        "Tensorboard demo using handwritten digits classification using neural network\n",
        "\n",
        "-------------------------------------\n",
        "In this notebook we will classify handwritten digits using a simple neural network which has only input and output layers. We will than add a hidden layer and see how the performance of the model improves"
      ],
      "metadata": {
        "id": "zg4VcWl0PAkE"
      }
    },
    {
      "cell_type": "code",
      "source": [
        "(X_train,y_train),(X_test,y_test)=keras.datasets.mnist.load_data()"
      ],
      "metadata": {
        "colab": {
          "base_uri": "https://localhost:8080/"
        },
        "id": "i3R5tgq8Nl4X",
        "outputId": "6cd993e4-5aa1-4ce1-8477-453e3b422edc"
      },
      "execution_count": 2,
      "outputs": [
        {
          "output_type": "stream",
          "name": "stdout",
          "text": [
            "Downloading data from https://storage.googleapis.com/tensorflow/tf-keras-datasets/mnist.npz\n",
            "11490434/11490434 [==============================] - 0s 0us/step\n"
          ]
        }
      ]
    },
    {
      "cell_type": "code",
      "source": [
        "len(X_train)"
      ],
      "metadata": {
        "colab": {
          "base_uri": "https://localhost:8080/"
        },
        "id": "hhmTotgNN9HI",
        "outputId": "3a5b5922-2974-4263-9c9d-dc497bb1ee90"
      },
      "execution_count": 3,
      "outputs": [
        {
          "output_type": "execute_result",
          "data": {
            "text/plain": [
              "60000"
            ]
          },
          "metadata": {},
          "execution_count": 3
        }
      ]
    },
    {
      "cell_type": "code",
      "source": [
        "len(X_test)"
      ],
      "metadata": {
        "colab": {
          "base_uri": "https://localhost:8080/"
        },
        "id": "fvT3V92hN9TQ",
        "outputId": "60b08738-d370-413f-ed1c-c81ce9e8f05d"
      },
      "execution_count": 4,
      "outputs": [
        {
          "output_type": "execute_result",
          "data": {
            "text/plain": [
              "10000"
            ]
          },
          "metadata": {},
          "execution_count": 4
        }
      ]
    },
    {
      "cell_type": "code",
      "source": [
        "X_train[0].shape"
      ],
      "metadata": {
        "colab": {
          "base_uri": "https://localhost:8080/"
        },
        "id": "FZ1FiuoAN9V4",
        "outputId": "3f293919-e4f3-48f9-ea4c-731ae210d13a"
      },
      "execution_count": 5,
      "outputs": [
        {
          "output_type": "execute_result",
          "data": {
            "text/plain": [
              "(28, 28)"
            ]
          },
          "metadata": {},
          "execution_count": 5
        }
      ]
    },
    {
      "cell_type": "code",
      "source": [
        "plt.matshow(X_train[0])"
      ],
      "metadata": {
        "colab": {
          "base_uri": "https://localhost:8080/",
          "height": 454
        },
        "id": "ILn18jLaN9YG",
        "outputId": "8647c073-30c1-47d0-b0b2-61e0b287687f"
      },
      "execution_count": 8,
      "outputs": [
        {
          "output_type": "execute_result",
          "data": {
            "text/plain": [
              "<matplotlib.image.AxesImage at 0x7e9e3bcad540>"
            ]
          },
          "metadata": {},
          "execution_count": 8
        },
        {
          "output_type": "display_data",
          "data": {
            "text/plain": [
              "<Figure size 480x480 with 1 Axes>"
            ],
            "image/png": "[encoded data removed]"
          },
          "metadata": {}
        }
      ]
    },
    {
      "cell_type": "code",
      "source": [
        "y_train[0]"
      ],
      "metadata": {
        "colab": {
          "base_uri": "https://localhost:8080/"
        },
        "id": "81KJDbjCOLK4",
        "outputId": "94505f7b-7b92-4dce-9caf-d9bc852116d2"
      },
      "execution_count": 9,
      "outputs": [
        {
          "output_type": "execute_result",
          "data": {
            "text/plain": [
              "5"
            ]
          },
          "metadata": {},
          "execution_count": 9
        }
      ]
    },
    {
      "cell_type": "code",
      "source": [
        "#Scaling\n",
        "X_train=X_train/255\n",
        "X_test=X_test/255"
      ],
      "metadata": {
        "id": "RXQel4glOUC8"
      },
      "execution_count": 10,
      "outputs": []
    },
    {
      "cell_type": "code",
      "source": [
        "X_train_flattened=X_train.reshape(len(X_train),28*28)\n",
        "X_test_flattened=X_test.reshape(len(X_test),28*28)"
      ],
      "metadata": {
        "id": "InNQwztNOay5"
      },
      "execution_count": 12,
      "outputs": []
    },
    {
      "cell_type": "code",
      "source": [
        "X_train_flattened.shape"
      ],
      "metadata": {
        "colab": {
          "base_uri": "https://localhost:8080/"
        },
        "id": "rZg3vSxOOwb2",
        "outputId": "e09bbe88-fa88-4932-ebfe-ecdf5f83870f"
      },
      "execution_count": 13,
      "outputs": [
        {
          "output_type": "execute_result",
          "data": {
            "text/plain": [
              "(60000, 784)"
            ]
          },
          "metadata": {},
          "execution_count": 13
        }
      ]
    },
    {
      "cell_type": "markdown",
      "source": [
        "\n",
        "Using Flatten layer so that we don't have to call .reshape on input dataset"
      ],
      "metadata": {
        "id": "Cpvp-egRO80J"
      }
    },
    {
      "cell_type": "code",
      "source": [
        "model=keras.Sequential([\n",
        "    keras.layers.Flatten(input_shape=(28,28)),           #Falttening the input layer\n",
        "    keras.layers.Dense(100,activation='relu'),           #Hidden Layer\n",
        "    keras.layers.Dense(10,activation='sigmoid')          #Input Layer\n",
        "])\n",
        "\n",
        "model.compile(optimizer='adam',\n",
        "              loss='sparse_categorical_crossentropy',\n",
        "              metrics=['accuracy'])\n",
        "\n",
        "tb_callback=tf.keras.callbacks.TensorBoard(log_dir=\"log/\",histogram_freq=1)\n",
        "\n",
        "model.fit(X_train,y_train,epochs=5,callbacks=[tb_callback])\n"
      ],
      "metadata": {
        "colab": {
          "base_uri": "https://localhost:8080/"
        },
        "id": "iYjE4X7QPRdQ",
        "outputId": "6135b9e4-8217-4b9e-e505-f36b9963dc73"
      },
      "execution_count": 17,
      "outputs": [
        {
          "output_type": "stream",
          "name": "stdout",
          "text": [
            "Epoch 1/5\n",
            "1875/1875 [==============================] - 9s 4ms/step - loss: 0.2779 - accuracy: 0.9223\n",
            "Epoch 2/5\n",
            "1875/1875 [==============================] - 7s 4ms/step - loss: 0.1268 - accuracy: 0.9626\n",
            "Epoch 3/5\n",
            "1875/1875 [==============================] - 8s 5ms/step - loss: 0.0880 - accuracy: 0.9737\n",
            "Epoch 4/5\n",
            "1875/1875 [==============================] - 7s 4ms/step - loss: 0.0669 - accuracy: 0.9798\n",
            "Epoch 5/5\n",
            "1875/1875 [==============================] - 8s 4ms/step - loss: 0.0527 - accuracy: 0.9836\n"
          ]
        },
        {
          "output_type": "execute_result",
          "data": {
            "text/plain": [
              "<keras.src.callbacks.History at 0x7e9e3aeef4c0>"
            ]
          },
          "metadata": {},
          "execution_count": 17
        }
      ]
    },
    {
      "cell_type": "code",
      "source": [
        "# %load_ext tensorboard\n",
        "# %tensorboard --logdir logs/fit"
      ],
      "metadata": {
        "id": "fVfEYF8qSDp5"
      },
      "execution_count": null,
      "outputs": []
    },
    {
      "cell_type": "markdown",
      "source": [
        "Either run above inline magic or go to git bash or your command prompt and type below to run it, tensorboard --logdir logs/ This will launch tensorboard at this url which you can open in your browser http://localhost:6006/"
      ],
      "metadata": {
        "id": "ch4UCew3SGLR"
      }
    },
    {
      "cell_type": "code",
      "source": [
        "model.get_weights()"
      ],
      "metadata": {
        "colab": {
          "base_uri": "https://localhost:8080/"
        },
        "id": "2lwUn-ZySQg6",
        "outputId": "5dad5f27-be99-4d42-bbfc-7c924e2a0217"
      },
      "execution_count": 18,
      "outputs": [
        {
          "output_type": "execute_result",
          "data": {
            "text/plain": [
              "[array([[ 0.02640755,  0.06252283, -0.06346636, ...,  0.01556467,\n",
              "         -0.04363753,  0.00831893],\n",
              "        [ 0.04822996,  0.07337007,  0.00102489, ...,  0.07164694,\n",
              "         -0.04088199,  0.01679396],\n",
              "        [-0.0032496 ,  0.01975736,  0.00371459, ..., -0.00410097,\n",
              "          0.02826495,  0.02596609],\n",
              "        ...,\n",
              "        [-0.04257638,  0.06359164, -0.012564  , ...,  0.06372215,\n",
              "         -0.03688537, -0.05501001],\n",
              "        [-0.04037809,  0.02305591,  0.00945134, ...,  0.03917231,\n",
              "          0.06950282, -0.08085403],\n",
              "        [-0.0758087 , -0.06993069, -0.03073961, ...,  0.02026163,\n",
              "         -0.08236828, -0.03407481]], dtype=float32),\n",
              " array([-0.09678557, -0.02089222,  0.13392644, -0.02536225, -0.07484329,\n",
              "         0.00254556,  0.0057795 ,  0.10448407, -0.07548048,  0.18727922,\n",
              "        -0.08108545,  0.15641207,  0.03049844, -0.10697704,  0.01547089,\n",
              "         0.01489901, -0.15191099,  0.06620393, -0.02131674,  0.09942143,\n",
              "         0.10337605,  0.14031701, -0.06341691,  0.13520792,  0.03755226,\n",
              "        -0.07684467, -0.00302502, -0.01935499, -0.10955119, -0.04517593,\n",
              "        -0.00917592,  0.11398367,  0.07746034,  0.03731742,  0.22500417,\n",
              "         0.1703044 , -0.11044633, -0.1550209 ,  0.22187896,  0.10994431,\n",
              "         0.09045083, -0.02974065,  0.18323943,  0.05089612,  0.20448244,\n",
              "         0.16846727, -0.18878214, -0.04799483, -0.0143015 , -0.00439137,\n",
              "        -0.09909496,  0.00171657, -0.05600991,  0.03683884, -0.11694749,\n",
              "        -0.10780571,  0.06594079, -0.17434481, -0.0382813 , -0.09183549,\n",
              "        -0.1296622 ,  0.11167073,  0.16611028,  0.08090068, -0.07913586,\n",
              "         0.08582145,  0.17825967,  0.074201  ,  0.12769395, -0.11671348,\n",
              "        -0.03261724, -0.03278663, -0.00241907,  0.1678091 , -0.02299717,\n",
              "         0.19575018, -0.08615107,  0.20403774,  0.05073007,  0.15247303,\n",
              "        -0.02322438,  0.04350581,  0.02992319, -0.16586606,  0.02728867,\n",
              "        -0.02088295,  0.08512302,  0.02579953, -0.0538282 ,  0.01686916,\n",
              "        -0.02790514, -0.02263974,  0.11641495, -0.02647316,  0.03410242,\n",
              "         0.14042354,  0.17490791, -0.11196622, -0.071014  , -0.0345404 ],\n",
              "       dtype=float32),\n",
              " array([[ 1.63000554e-01, -2.09531814e-01, -2.32746154e-01,\n",
              "         -5.84757328e-02,  1.51238307e-01, -2.58998424e-01,\n",
              "          1.41683921e-01,  2.91926023e-02,  3.66094597e-02,\n",
              "          1.85356155e-01],\n",
              "        [-1.41969219e-01, -1.47383928e-01, -1.63822100e-01,\n",
              "         -3.00482884e-02, -6.59416243e-02,  5.10074086e-02,\n",
              "          3.35273966e-02, -2.15098664e-01,  1.67211384e-01,\n",
              "         -6.65927539e-03],\n",
              "        [ 2.03409046e-01,  1.84203535e-01,  3.62218142e-01,\n",
              "         -7.30965137e-02, -2.26045847e-01, -2.92188767e-03,\n",
              "         -3.26677412e-01,  1.44254148e-01, -8.14189851e-01,\n",
              "         -4.40149307e-01],\n",
              "        [ 2.77658641e-01, -3.39999907e-02,  2.32629105e-01,\n",
              "         -7.27083027e-01,  1.95524786e-02, -3.87762427e-01,\n",
              "         -1.52661782e-02, -2.24801809e-01,  3.98826092e-01,\n",
              "         -4.10247207e-01],\n",
              "        [-2.00275943e-01,  2.02541426e-01,  2.19701022e-01,\n",
              "          4.81097959e-02,  1.48340434e-01, -7.93263316e-01,\n",
              "         -5.56015015e-01, -1.50111809e-01,  1.28713876e-01,\n",
              "          2.72361785e-01],\n",
              "        [ 1.82609841e-01,  3.89440835e-01,  1.10765353e-01,\n",
              "         -1.23788878e-01,  3.22944164e-01, -2.64325708e-01,\n",
              "         -1.47137353e-02,  4.45935398e-01, -4.31452602e-01,\n",
              "         -3.83281767e-01],\n",
              "        [-6.00710869e-01,  7.73304179e-02,  2.96628359e-03,\n",
              "          1.23554848e-01,  5.03674671e-02, -1.15304925e-02,\n",
              "         -3.72656494e-01,  9.53290686e-02,  1.85457766e-01,\n",
              "         -1.46681324e-01],\n",
              "        [-2.68005550e-01, -1.16581112e-01,  1.12933457e-01,\n",
              "         -3.92839313e-01, -7.31686771e-01,  4.83122498e-01,\n",
              "          6.99981377e-02, -2.64800508e-02, -1.97729282e-02,\n",
              "         -1.62595436e-01],\n",
              "        [ 1.02303617e-01, -4.03750211e-01,  2.38498598e-01,\n",
              "          1.24710411e-01, -7.71111846e-01,  2.48866722e-01,\n",
              "         -1.64225549e-01,  3.90864909e-01, -8.27713683e-02,\n",
              "          1.13925226e-01],\n",
              "        [-8.44628274e-01,  6.53758869e-02, -1.79592699e-01,\n",
              "          3.04892302e-01,  2.94901013e-01,  1.76012710e-01,\n",
              "         -9.88683775e-02,  1.25332594e-01, -3.03790748e-01,\n",
              "          1.24348313e-01],\n",
              "        [-4.90694076e-01,  1.42136142e-01,  4.94407892e-01,\n",
              "          6.53955936e-02, -3.55061024e-01, -5.28503478e-01,\n",
              "         -9.22485441e-02,  1.79359481e-01,  4.01404768e-01,\n",
              "         -3.50488931e-01],\n",
              "        [-8.91986936e-02,  1.90919533e-01, -3.47578228e-01,\n",
              "         -7.16189921e-01,  2.71096796e-01, -1.11995721e-02,\n",
              "          3.64298880e-01,  4.36291099e-01, -2.24856287e-01,\n",
              "          1.61246061e-01],\n",
              "        [-9.90896150e-02,  2.50439107e-01,  2.29006127e-01,\n",
              "         -1.80325713e-02,  1.68094605e-01,  4.53434177e-02,\n",
              "         -2.64357269e-01, -4.07266170e-01, -9.47892904e-01,\n",
              "          2.88493097e-01],\n",
              "        [ 2.11648084e-02, -2.52313823e-01, -5.59138171e-02,\n",
              "          2.25559369e-01,  1.01509608e-01, -1.16281532e-01,\n",
              "         -2.04354748e-01, -8.94071162e-02,  2.02075586e-01,\n",
              "          2.19746642e-02],\n",
              "        [ 3.90254855e-02, -1.78695887e-01, -3.18557829e-01,\n",
              "          2.93434888e-01,  7.67790899e-02,  3.20531353e-02,\n",
              "          1.18218452e-01,  2.45136306e-01, -3.04711223e-01,\n",
              "         -3.10040444e-01],\n",
              "        [ 1.94638759e-01,  2.22688660e-01,  2.43613243e-01,\n",
              "         -4.74875152e-01,  1.77957639e-01, -7.66358301e-02,\n",
              "         -4.02113140e-01,  1.59490258e-01, -4.32273775e-01,\n",
              "          2.49635845e-01],\n",
              "        [ 5.28681815e-01, -5.16277194e-01,  3.48034561e-01,\n",
              "         -1.65721059e-01, -4.40964922e-02, -8.91471088e-01,\n",
              "         -1.83060125e-01,  5.55490367e-02, -1.02957506e-02,\n",
              "          1.26396030e-01],\n",
              "        [-4.30711776e-01,  9.98447388e-02, -3.75635296e-01,\n",
              "          1.08731613e-01, -1.94498971e-01,  2.62942433e-01,\n",
              "         -3.17933768e-01, -1.45065323e-01, -4.29329369e-03,\n",
              "         -1.66155957e-02],\n",
              "        [ 1.09032989e-01,  3.93191755e-01,  8.19792449e-02,\n",
              "          2.39710093e-01,  6.64975524e-01, -3.72609049e-01,\n",
              "         -1.19961768e-01, -8.71792063e-02, -1.66863695e-01,\n",
              "         -6.86760902e-01],\n",
              "        [ 1.11681752e-01, -2.60076702e-01, -1.10974550e-01,\n",
              "         -3.38323295e-01,  2.59585023e-01,  1.65586099e-01,\n",
              "          2.18888804e-01, -3.01960766e-01, -8.32942426e-02,\n",
              "          1.99546427e-01],\n",
              "        [ 2.16711715e-01, -7.39349186e-01, -4.20944631e-01,\n",
              "          1.43194824e-01,  2.52567947e-01,  3.30983818e-01,\n",
              "          2.21921340e-01,  8.51031691e-02,  1.17583938e-01,\n",
              "          1.36877969e-01],\n",
              "        [-2.00366929e-01, -3.82832378e-01,  1.76423997e-01,\n",
              "          9.65496749e-02,  6.93145394e-02, -1.14872111e-02,\n",
              "          5.78199793e-03,  2.13885874e-01, -2.36597821e-01,\n",
              "         -6.18155718e-01],\n",
              "        [ 2.13322982e-01,  6.95343129e-03, -4.24811602e-01,\n",
              "          1.22862764e-01, -1.85476854e-01,  1.54813513e-01,\n",
              "          2.19871461e-01,  1.34863064e-01,  7.48274028e-02,\n",
              "          2.45330900e-01],\n",
              "        [-8.03454667e-02,  4.14668292e-01,  6.30608797e-02,\n",
              "         -3.77387941e-01, -8.11395645e-01,  5.77788413e-01,\n",
              "          4.16246086e-01, -2.01540470e-01, -6.12013601e-02,\n",
              "          4.06596661e-02],\n",
              "        [ 1.03631429e-01, -6.60644611e-03,  1.11615837e-01,\n",
              "         -1.82204589e-01,  9.82068777e-02, -1.07062615e-01,\n",
              "          1.59526050e-01, -2.46530082e-02,  1.12769291e-01,\n",
              "          8.32644403e-02],\n",
              "        [-1.99807554e-01, -2.24106595e-01,  2.15134189e-01,\n",
              "          2.14176789e-01, -5.46563148e-01, -6.37050033e-01,\n",
              "         -1.29467130e-01,  1.46780893e-01, -4.10048217e-01,\n",
              "          2.04405580e-02],\n",
              "        [ 2.43468940e-01,  3.37059706e-01,  2.72394300e-01,\n",
              "         -3.59271377e-01,  6.44000024e-02,  6.33001626e-02,\n",
              "          1.55757129e-01,  2.09046513e-01, -6.45944118e-01,\n",
              "         -6.38871849e-01],\n",
              "        [ 1.49900883e-01,  1.86131135e-01, -7.61962309e-02,\n",
              "          1.79622337e-01, -1.65668860e-01, -6.39053062e-02,\n",
              "         -2.96764597e-02, -1.74881622e-01,  1.20873652e-01,\n",
              "         -7.23986626e-02],\n",
              "        [ 1.26543239e-01, -4.52366024e-01,  6.20546229e-02,\n",
              "          1.12703040e-01, -2.46210441e-01, -4.43949372e-01,\n",
              "         -3.89684349e-01, -1.30148053e-01,  2.30040446e-01,\n",
              "          1.28442481e-01],\n",
              "        [ 1.77886412e-01,  1.08537547e-01,  1.36172563e-01,\n",
              "         -1.30103771e-02, -8.66587222e-01,  1.22916855e-01,\n",
              "         -4.92731631e-02, -3.47206444e-01, -5.40920831e-02,\n",
              "         -5.26879318e-02],\n",
              "        [-3.78300995e-02,  9.33797359e-02,  2.05308840e-01,\n",
              "         -9.51275006e-02, -3.16657960e-01, -1.53902680e-01,\n",
              "          2.34765187e-01, -3.20593826e-02,  1.97623055e-02,\n",
              "         -7.08801329e-01],\n",
              "        [ 6.58141896e-02, -6.38468206e-01,  3.62959564e-01,\n",
              "          3.54150027e-01, -7.45420814e-01, -1.02695515e-02,\n",
              "         -6.35156751e-01,  1.07445270e-01, -6.03916705e-01,\n",
              "          2.60035247e-01],\n",
              "        [-2.53247261e-01, -1.53006271e-01,  1.18469253e-01,\n",
              "          2.05935299e-01,  1.11581005e-01,  2.20143467e-01,\n",
              "          2.04472959e-01, -8.68663564e-03,  1.97889507e-01,\n",
              "          1.33750379e-01],\n",
              "        [-5.54476380e-01,  1.90385744e-01, -4.87310261e-01,\n",
              "          1.79994255e-01,  1.96083456e-01,  2.80710280e-01,\n",
              "         -3.18606317e-01,  2.06232630e-02, -8.75303056e-03,\n",
              "          1.61914840e-01],\n",
              "        [-3.01519156e-01, -2.69946575e-01,  2.36788578e-02,\n",
              "         -6.29023373e-01,  3.11538488e-01,  1.83074473e-04,\n",
              "         -1.81320533e-01,  4.30698730e-02,  1.51272997e-01,\n",
              "         -1.47905380e-01],\n",
              "        [-4.22604620e-01, -1.83254883e-01,  1.77590489e-01,\n",
              "          1.21884055e-01,  2.32030943e-01,  1.80582404e-01,\n",
              "          1.90826043e-01, -2.01472789e-01,  1.54962078e-01,\n",
              "         -1.98513836e-01],\n",
              "        [ 2.32805118e-01, -2.61675090e-01,  1.68666262e-02,\n",
              "         -3.76633704e-02,  5.88770248e-02, -1.67827040e-01,\n",
              "         -2.97473669e-01,  9.13234204e-02,  1.24834619e-01,\n",
              "          2.16796681e-01],\n",
              "        [ 1.17516778e-01, -1.44124523e-01,  1.54093310e-01,\n",
              "          2.06462115e-01, -7.10634768e-01, -1.01453260e-01,\n",
              "         -3.01770985e-01,  1.41868606e-01, -3.50083150e-02,\n",
              "         -1.13038994e-01],\n",
              "        [-3.32563490e-01,  1.99501514e-02, -1.21513680e-01,\n",
              "          1.98665425e-01,  2.18038604e-01,  2.26821899e-01,\n",
              "         -5.30258834e-01,  1.63195550e-01,  1.82174236e-01,\n",
              "          7.04553127e-02],\n",
              "        [ 1.25225663e-01,  2.88196325e-01, -2.78369993e-01,\n",
              "         -6.46395311e-02,  3.46560270e-01,  1.71767399e-01,\n",
              "          7.60665014e-02, -9.63503495e-02,  9.46611539e-02,\n",
              "         -5.90652943e-01],\n",
              "        [ 1.05629921e-01, -3.96374673e-01,  1.56920865e-01,\n",
              "          1.15294717e-02, -1.84705511e-01,  2.38813564e-01,\n",
              "         -1.20565481e-01, -2.78681964e-01,  1.33791313e-01,\n",
              "          1.90012828e-02],\n",
              "        [-1.48903206e-01,  1.53833017e-01, -6.44986749e-01,\n",
              "          2.38223866e-01,  1.74683422e-01, -3.31244409e-01,\n",
              "          2.51320541e-01, -3.12253982e-01,  1.40806258e-01,\n",
              "          1.85698330e-01],\n",
              "        [-2.37088919e-01,  1.20831743e-01, -3.12031060e-01,\n",
              "         -1.89739708e-02,  1.14019953e-01,  2.39663228e-01,\n",
              "         -4.92626905e-01, -2.64399320e-01, -1.22133782e-02,\n",
              "          1.52819902e-01],\n",
              "        [ 1.45691320e-01, -4.01689380e-01, -3.92384559e-01,\n",
              "         -1.84401289e-01, -3.82766962e-01,  3.36126536e-01,\n",
              "          2.67118186e-01,  1.72193632e-01, -3.18213433e-01,\n",
              "          3.02173942e-01],\n",
              "        [-2.35596016e-01,  3.48598897e-01, -7.88792014e-01,\n",
              "         -3.46776366e-01, -2.23756090e-01,  2.99693048e-01,\n",
              "         -2.66859829e-01,  4.41107720e-01, -4.42970932e-01,\n",
              "          2.39248604e-01],\n",
              "        [-7.93878213e-02, -2.66090542e-01, -4.68945414e-01,\n",
              "         -4.64920521e-01,  3.10038924e-01,  3.48337471e-01,\n",
              "          1.93335027e-01, -1.47180125e-01,  1.36136830e-01,\n",
              "          1.48817286e-01],\n",
              "        [ 1.08281001e-01,  2.42390424e-01, -9.60379839e-02,\n",
              "          1.42770201e-01,  2.14043334e-01, -6.14939451e-01,\n",
              "          1.00702336e-02,  1.51389837e-01, -3.37289453e-01,\n",
              "         -5.00041008e-01],\n",
              "        [-3.69461089e-01,  2.83342957e-01,  1.99962363e-01,\n",
              "          1.82407409e-01,  1.85214698e-01,  7.16281906e-02,\n",
              "         -2.04809546e-01, -3.31451029e-01,  1.04456097e-01,\n",
              "         -1.50212660e-01],\n",
              "        [-1.46094531e-01,  1.65247116e-02, -1.11129701e-01,\n",
              "          1.35363452e-02, -7.36061186e-02, -6.15041375e-01,\n",
              "          4.86969769e-01,  1.84823051e-01, -1.27303287e-01,\n",
              "          1.28502011e-01],\n",
              "        [-3.14457446e-01, -2.52018958e-01,  1.07787378e-01,\n",
              "          2.68885493e-01,  2.46453911e-01,  1.39858514e-01,\n",
              "         -6.33668125e-01, -2.19093412e-01,  1.31078079e-01,\n",
              "          1.19866185e-01],\n",
              "        [-4.65917103e-02,  4.92473505e-02,  1.26415819e-01,\n",
              "          8.13342184e-02, -1.81769788e-01, -5.82747571e-02,\n",
              "          1.70735180e-01, -3.27484399e-01,  1.04096353e-01,\n",
              "         -4.35371399e-02],\n",
              "        [-4.67594773e-01,  2.50007182e-01,  5.07847108e-02,\n",
              "          1.22370183e-01,  8.79691020e-02, -4.79849167e-02,\n",
              "         -4.35072005e-01,  2.34140620e-01,  9.67625752e-02,\n",
              "         -1.95076484e-02],\n",
              "        [ 3.50459009e-01, -3.13530415e-01, -3.57041836e-01,\n",
              "         -2.40932733e-01,  3.57304811e-01, -4.06434655e-01,\n",
              "          2.45407313e-01, -1.20293856e-01, -4.51165259e-01,\n",
              "          2.64311463e-01],\n",
              "        [ 8.78451616e-02,  1.83092415e-01,  3.78617309e-02,\n",
              "         -7.07833888e-03, -3.43202204e-01, -1.42684125e-03,\n",
              "         -2.15779431e-02,  2.83856750e-01, -3.58740091e-01,\n",
              "         -2.42703095e-01],\n",
              "        [ 2.17629805e-01,  6.67986274e-02,  2.17471480e-01,\n",
              "          1.07984267e-01, -7.48188555e-01,  5.60571887e-02,\n",
              "         -3.99840549e-02, -1.00106448e-01,  1.81958437e-01,\n",
              "         -2.60374278e-01],\n",
              "        [-5.44769764e-01,  1.78064540e-01,  2.36202121e-01,\n",
              "          2.80546993e-01, -8.46192062e-01,  2.91497886e-01,\n",
              "         -4.87909138e-01,  5.13338506e-01,  2.98617557e-02,\n",
              "         -2.16525257e-01],\n",
              "        [-2.57516235e-01,  1.70483664e-01,  2.70301372e-01,\n",
              "         -6.17379308e-01, -5.56064248e-02, -2.13086858e-01,\n",
              "          2.17694715e-01,  7.43236812e-03,  2.61519462e-01,\n",
              "         -1.12466358e-01],\n",
              "        [-1.56724080e-01,  1.76752493e-01,  8.69206414e-02,\n",
              "          3.40803921e-01, -3.64847153e-01, -5.80396533e-01,\n",
              "         -1.44076115e-02,  1.82128668e-01, -2.35232458e-01,\n",
              "         -7.72879660e-01],\n",
              "        [ 1.57026842e-01, -1.53182670e-01, -2.00789899e-01,\n",
              "          9.39242840e-02, -5.88279903e-01,  4.78463434e-02,\n",
              "          2.66969293e-01, -6.47943199e-01,  1.30914792e-01,\n",
              "          1.21852517e-01],\n",
              "        [-1.28381789e-01, -1.13993257e-01, -1.01642109e-01,\n",
              "         -6.68985605e-01, -1.91922933e-01, -4.69857872e-01,\n",
              "         -2.67651957e-02,  3.52265298e-01, -4.62985665e-01,\n",
              "          2.63232261e-01],\n",
              "        [ 9.03451145e-02,  1.31214991e-01, -3.09330285e-01,\n",
              "          2.58640468e-01,  3.96682974e-03,  1.86508641e-01,\n",
              "          4.10644680e-01,  8.13278779e-02, -4.90096986e-01,\n",
              "         -4.14671779e-01],\n",
              "        [-3.38192508e-02,  2.26842418e-01, -2.33760908e-01,\n",
              "         -9.86237302e-02, -7.98990369e-01,  3.33376527e-01,\n",
              "          3.20914149e-01, -6.09742329e-02, -1.83140770e-01,\n",
              "         -3.07957381e-01],\n",
              "        [ 5.69139421e-02, -1.84489265e-01, -1.01002507e-01,\n",
              "         -5.98030873e-02,  2.34547928e-01,  1.32785842e-01,\n",
              "          1.57111645e-01, -1.26063392e-01,  1.94694623e-01,\n",
              "         -9.53169763e-02],\n",
              "        [-7.08139539e-01,  1.67074800e-02, -2.44974241e-01,\n",
              "          3.78886610e-02,  4.06483412e-02,  3.63008201e-01,\n",
              "          6.19689785e-02,  7.49958009e-02, -7.11328387e-02,\n",
              "         -1.87858775e-01],\n",
              "        [-6.60578430e-01, -9.59848464e-02,  3.67801070e-01,\n",
              "          1.13233604e-01, -1.92265004e-01,  4.75721210e-02,\n",
              "         -1.67919502e-01,  4.10356641e-01,  8.90958980e-02,\n",
              "         -7.85152555e-01],\n",
              "        [ 1.24830745e-01,  1.60940439e-01,  1.87785268e-01,\n",
              "         -1.84673533e-01,  1.15299821e-01, -1.37605099e-02,\n",
              "         -6.20721102e-01,  2.90563196e-01, -7.13299736e-02,\n",
              "          9.31242853e-02],\n",
              "        [ 1.35058373e-01, -1.91540584e-01,  1.87603131e-01,\n",
              "         -4.29916754e-02, -5.40099386e-03,  2.20221236e-01,\n",
              "          1.90880671e-01, -1.50476441e-01,  1.31432358e-02,\n",
              "         -3.31321806e-01],\n",
              "        [ 1.05545834e-01, -3.55005503e-01, -1.07926808e-01,\n",
              "          2.07775250e-01,  1.76706329e-01,  2.05636635e-01,\n",
              "          2.05219164e-01,  1.07149497e-01, -1.06645569e-01,\n",
              "          3.46178152e-02],\n",
              "        [-9.49331149e-02,  1.41168401e-01, -5.01657724e-01,\n",
              "          5.80145456e-02, -1.60877526e-01,  2.47149974e-01,\n",
              "         -5.31933665e-01,  2.67698299e-02,  7.07749426e-02,\n",
              "          2.56245077e-01],\n",
              "        [ 9.09674987e-02, -3.13509464e-01, -3.08954697e-02,\n",
              "          1.43960223e-01, -1.11151427e-01,  4.89351228e-02,\n",
              "         -4.37412322e-01,  1.01616614e-01,  8.32689181e-02,\n",
              "          1.94843739e-01],\n",
              "        [-1.39558792e-01, -4.43968564e-01, -1.24933179e-02,\n",
              "          3.99620175e-01,  4.09268253e-02, -6.76586568e-01,\n",
              "          4.31684762e-01,  2.94460982e-01,  1.09950215e-01,\n",
              "          2.25542247e-01],\n",
              "        [-8.04707408e-02,  7.40536988e-01,  1.24280296e-01,\n",
              "          2.72109777e-01, -8.58773440e-02, -7.19438970e-01,\n",
              "         -2.97990352e-01,  5.55970259e-02, -1.92192823e-01,\n",
              "         -1.15095396e-02],\n",
              "        [ 1.54086035e-02,  4.01538193e-01, -3.15899611e-01,\n",
              "         -5.68069994e-01,  2.82184482e-01, -2.37266213e-01,\n",
              "          1.71999738e-03,  6.44685561e-03, -3.41052026e-01,\n",
              "          2.42645189e-01],\n",
              "        [-7.81168640e-02,  7.10365400e-02, -3.77923280e-01,\n",
              "         -2.43841872e-01,  1.74625412e-01,  2.69041091e-01,\n",
              "          2.73661703e-01, -3.38167965e-01,  2.78867215e-01,\n",
              "          1.75363049e-01],\n",
              "        [-5.29784858e-02, -6.99481189e-01,  3.41727436e-01,\n",
              "          6.36888295e-02,  2.36590970e-02, -3.17763418e-01,\n",
              "          2.32386729e-03, -2.30870575e-01, -1.48851007e-01,\n",
              "          2.34761357e-01],\n",
              "        [ 1.81146376e-02,  1.19753383e-01, -2.47618183e-01,\n",
              "         -1.24597080e-01, -9.89463925e-02,  1.11302979e-01,\n",
              "          7.03180507e-02,  5.89338839e-01, -3.30872953e-01,\n",
              "         -4.28290546e-01],\n",
              "        [ 1.93919703e-01, -4.12345976e-02,  2.43576497e-01,\n",
              "          3.55014615e-02, -4.91921216e-01, -4.62051928e-01,\n",
              "         -5.53355515e-01,  8.12073052e-02,  7.05789849e-02,\n",
              "          1.90504909e-01],\n",
              "        [ 6.85369000e-02, -1.14183389e-01, -2.79878795e-01,\n",
              "         -5.57252824e-01,  4.02112246e-01, -2.10248128e-01,\n",
              "          7.85068572e-02,  4.39560294e-01, -4.13125962e-01,\n",
              "         -2.01637313e-01],\n",
              "        [ 1.26613230e-01, -3.68752062e-01, -6.33514896e-02,\n",
              "          4.17122871e-01, -7.01650739e-01,  4.76109922e-01,\n",
              "         -3.01378369e-02,  3.12643319e-01, -2.70480067e-01,\n",
              "         -3.04483324e-01],\n",
              "        [ 1.34868309e-01,  1.94941729e-01,  1.79858655e-01,\n",
              "         -3.03597629e-01,  1.85581550e-01, -1.07920021e-02,\n",
              "          2.38938406e-01, -1.93367198e-01,  9.65338871e-02,\n",
              "         -3.81440490e-01],\n",
              "        [-5.36451340e-01,  5.43771744e-01,  1.12448990e-01,\n",
              "          3.17546874e-01,  1.82270244e-01, -7.58229315e-01,\n",
              "         -2.84156263e-01, -9.59961638e-02, -3.39327514e-01,\n",
              "         -1.61623791e-01],\n",
              "        [-6.02146506e-01, -1.06138058e-01, -5.92006624e-01,\n",
              "          2.23019645e-01,  3.18749964e-01,  3.07795674e-01,\n",
              "         -6.67699456e-01, -4.95971859e-01, -9.32138115e-02,\n",
              "          4.14500713e-01],\n",
              "        [-1.63622484e-01,  2.66355336e-01,  4.24838901e-01,\n",
              "         -5.90089679e-01,  2.46225759e-01, -6.04502082e-01,\n",
              "         -5.76741956e-02,  2.24128470e-01,  2.32525140e-01,\n",
              "          2.74460744e-02],\n",
              "        [-6.24960894e-03,  1.32039085e-01, -8.66477117e-02,\n",
              "          1.10410750e-01, -1.13547936e-01, -1.84798896e-01,\n",
              "          3.82711901e-03, -3.41274500e-01,  1.44187912e-01,\n",
              "         -1.65279896e-03],\n",
              "        [ 9.84679908e-03, -5.27110815e-01,  3.86660129e-01,\n",
              "         -2.77984589e-01,  3.84841174e-01, -1.11550151e-03,\n",
              "         -5.54355681e-01,  1.08622938e-01, -8.75936806e-01,\n",
              "          1.75717801e-01],\n",
              "        [ 1.21431187e-01, -1.90754011e-01,  1.09267794e-01,\n",
              "         -2.32317438e-03,  6.08830936e-02, -8.92052278e-02,\n",
              "          1.37443040e-02, -2.26591557e-01,  1.81783304e-01,\n",
              "          2.67324913e-02],\n",
              "        [-9.43602920e-02, -3.14990371e-01, -1.41722724e-01,\n",
              "         -7.25631490e-02, -1.27346357e-02, -9.97622386e-02,\n",
              "          2.09156230e-01,  1.66343853e-01,  5.26683517e-02,\n",
              "          2.37489436e-02],\n",
              "        [ 1.60358861e-01,  2.63534039e-02,  1.57440960e-01,\n",
              "          4.49041557e-03, -1.20525301e-01,  6.37004524e-02,\n",
              "          2.38037288e-01, -3.50919247e-01,  1.67647302e-01,\n",
              "         -9.44218338e-02],\n",
              "        [ 2.55818188e-01, -6.41179979e-01,  1.54201433e-01,\n",
              "          3.12996775e-01, -2.22925633e-01,  3.25922638e-01,\n",
              "         -3.84990424e-01,  1.76727727e-01,  5.66016212e-02,\n",
              "          1.75890803e-01],\n",
              "        [ 1.13583058e-01, -3.76021236e-01,  5.42322993e-02,\n",
              "         -2.15860128e-01,  9.76420790e-02, -1.58217371e-01,\n",
              "         -6.26822636e-02, -1.18796661e-01,  1.25362903e-01,\n",
              "         -5.26060490e-03],\n",
              "        [-6.58166111e-01,  1.74110889e-01,  2.03676000e-01,\n",
              "          5.28219819e-01, -4.22538287e-05, -6.40633106e-02,\n",
              "         -6.51254535e-01, -2.44655237e-01, -4.31477278e-01,\n",
              "         -2.56839246e-01],\n",
              "        [ 6.86976761e-02, -1.43260449e-01,  2.43750140e-01,\n",
              "         -8.30067545e-02,  2.41940960e-01, -2.41370782e-01,\n",
              "          1.53546259e-01,  1.15117673e-02,  1.83966696e-01,\n",
              "         -8.51999223e-01],\n",
              "        [ 1.45088106e-01,  2.17184760e-02, -6.17454410e-01,\n",
              "          1.63768400e-02,  1.53822839e-01,  3.20144504e-01,\n",
              "          1.31373942e-01,  5.18054329e-02,  1.40582576e-01,\n",
              "         -1.35506883e-01],\n",
              "        [ 1.39945252e-02, -4.93647188e-01,  2.51103103e-01,\n",
              "         -2.81729370e-01,  2.61430860e-01, -1.57566503e-01,\n",
              "          2.45223999e-01, -5.33042967e-01,  3.82860214e-01,\n",
              "          2.17665702e-01],\n",
              "        [-2.54513681e-01, -6.44782186e-02, -1.82741389e-01,\n",
              "         -3.18331853e-03,  5.92651591e-02, -1.39277264e-01,\n",
              "          9.90603864e-02, -9.01485905e-02,  2.94717014e-01,\n",
              "          1.73759460e-01],\n",
              "        [-1.17768377e-01,  4.73501161e-02,  2.36632377e-01,\n",
              "          1.15066335e-01, -1.90301165e-01,  2.86523283e-01,\n",
              "          1.86403185e-01, -6.85236096e-01, -1.11504741e-01,\n",
              "         -5.68647444e-01],\n",
              "        [-1.91197678e-01,  4.27652985e-01,  4.16380852e-01,\n",
              "         -2.28152633e-01, -1.95262030e-01,  5.41179001e-01,\n",
              "         -3.15560132e-01, -2.44735181e-01, -6.27778769e-01,\n",
              "         -4.51385915e-01],\n",
              "        [-3.73855717e-02, -2.99577117e-01,  2.94584353e-02,\n",
              "          1.85559109e-01, -1.32158235e-01,  1.46516740e-01,\n",
              "         -1.11488044e-01, -6.87784553e-01,  8.59074518e-02,\n",
              "          1.32332057e-01],\n",
              "        [ 3.49553376e-02,  2.17288852e-01, -5.44101074e-02,\n",
              "         -1.20562315e-01, -2.59938508e-01, -1.62118003e-01,\n",
              "         -2.91260272e-01, -1.87017933e-01,  8.61646906e-02,\n",
              "          1.66139342e-02],\n",
              "        [ 2.67280824e-02, -4.78527606e-01,  1.44370213e-01,\n",
              "         -4.59931009e-02, -4.78051513e-01,  1.75664961e-01,\n",
              "         -4.61465046e-02, -2.97996998e-01,  5.71278222e-02,\n",
              "          4.82551008e-01]], dtype=float32),\n",
              " array([-0.20087981, -0.02028471, -0.0419841 , -0.17064694,  0.12884323,\n",
              "         0.19407974,  0.00877632,  0.00469127,  0.07971624, -0.05635785],\n",
              "       dtype=float32)]"
            ]
          },
          "metadata": {},
          "execution_count": 18
        }
      ]
    },
    {
      "cell_type": "code",
      "source": [],
      "metadata": {
        "id": "YUvYhaKqSUMi"
      },
      "execution_count": null,
      "outputs": []
    }
  ]
}